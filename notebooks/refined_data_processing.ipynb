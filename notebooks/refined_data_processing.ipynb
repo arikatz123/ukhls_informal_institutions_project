{
 "cells": [
  {
   "cell_type": "markdown",
   "id": "36317472",
   "metadata": {},
   "source": [
    "# Data Exploration\n",
    "\n",
    "\n",
    "Also need to think about how to handle the multiple waves per person. Options:\n",
    "1. Keep all waves (will need to use panel data methods)\n",
    "2. Keep only one wave per person (will need to decide which wave to keep - most recent? random?)\n",
    "3. Average across waves (will need to decide how to handle missing data - if a person is missing in one wave but not another, do we keep the non-missing value?)\n",
    "4. Use only the first wave a person appears in (will lose a lot of data, but will be simpler to analyze)\n",
    "\n",
    "**Reminder**\n",
    "- Independent variable = X = informal institutions = nbrsnci_dv = Higher values represent greater cohesion, ranging from 1 “lowest cohesion” to 5 “highest cohesion”.\n",
    "- Dependent variable = Y = subjective wellbeing = scghq1_dv = Range of scores from 0 (indicating the least amount of distress) to 36 (indicating the greatest amount of distress)"
   ]
  },
  {
   "cell_type": "code",
   "execution_count": 17,
   "id": "5e3abfa3",
   "metadata": {},
   "outputs": [],
   "source": [
    "import pandas as pd                                 \n",
    "from pathlib import Path                           \n",
    "import matplotlib.pyplot as plt                     \n",
    "import seaborn as sns                              \n",
    "import numpy as np                                  \n",
    "from scipy.stats import norm                        \n",
    "from sklearn.preprocessing import StandardScaler    \n",
    "from scipy import stats                             \n",
    "import statsmodels.api as sm                       \n",
    "%matplotlib inline\n",
    "%config InlineBackend.figure_format = 'retina'\n",
    "pd.set_option('display.max_columns', None)  # Show all columns when displaying a dataframe\n",
    "import pyreadstat"
   ]
  },
  {
   "cell_type": "code",
   "execution_count": 18,
   "id": "8fe316d9",
   "metadata": {},
   "outputs": [
    {
     "name": "stdout",
     "output_type": "stream",
     "text": [
      "Shape: (175335, 18)\n"
     ]
    },
    {
     "data": {
      "text/html": [
       "<div>\n",
       "<style scoped>\n",
       "    .dataframe tbody tr th:only-of-type {\n",
       "        vertical-align: middle;\n",
       "    }\n",
       "\n",
       "    .dataframe tbody tr th {\n",
       "        vertical-align: top;\n",
       "    }\n",
       "\n",
       "    .dataframe thead th {\n",
       "        text-align: right;\n",
       "    }\n",
       "</style>\n",
       "<table border=\"1\" class=\"dataframe\">\n",
       "  <thead>\n",
       "    <tr style=\"text-align: right;\">\n",
       "      <th></th>\n",
       "      <th>pidp</th>\n",
       "      <th>wave</th>\n",
       "      <th>wave_num</th>\n",
       "      <th>hidp</th>\n",
       "      <th>nbrsnci_dv</th>\n",
       "      <th>gor_dv</th>\n",
       "      <th>urban_dv</th>\n",
       "      <th>sex_dv</th>\n",
       "      <th>age_dv</th>\n",
       "      <th>ethn_dv</th>\n",
       "      <th>marstat_dv</th>\n",
       "      <th>jbstat</th>\n",
       "      <th>qfhigh_dv</th>\n",
       "      <th>fimnnet_dv</th>\n",
       "      <th>fihhmnnet1_dv</th>\n",
       "      <th>houscost1_dv</th>\n",
       "      <th>health</th>\n",
       "      <th>scghq1_dv</th>\n",
       "    </tr>\n",
       "  </thead>\n",
       "  <tbody>\n",
       "    <tr>\n",
       "      <th>0</th>\n",
       "      <td>1428960167</td>\n",
       "      <td>f</td>\n",
       "      <td>6</td>\n",
       "      <td>1431984810</td>\n",
       "      <td>3.1</td>\n",
       "      <td>7</td>\n",
       "      <td>1</td>\n",
       "      <td>1</td>\n",
       "      <td>50</td>\n",
       "      <td>4</td>\n",
       "      <td>1</td>\n",
       "      <td>1</td>\n",
       "      <td>2</td>\n",
       "      <td>387060.718750</td>\n",
       "      <td>395352.65625</td>\n",
       "      <td>0.0</td>\n",
       "      <td>2</td>\n",
       "      <td>12</td>\n",
       "    </tr>\n",
       "    <tr>\n",
       "      <th>1</th>\n",
       "      <td>1156946571</td>\n",
       "      <td>f</td>\n",
       "      <td>6</td>\n",
       "      <td>1159984810</td>\n",
       "      <td>4.0</td>\n",
       "      <td>7</td>\n",
       "      <td>1</td>\n",
       "      <td>1</td>\n",
       "      <td>54</td>\n",
       "      <td>1</td>\n",
       "      <td>1</td>\n",
       "      <td>1</td>\n",
       "      <td>96</td>\n",
       "      <td>387021.562500</td>\n",
       "      <td>389177.56250</td>\n",
       "      <td>234.0</td>\n",
       "      <td>2</td>\n",
       "      <td>10</td>\n",
       "    </tr>\n",
       "    <tr>\n",
       "      <th>2</th>\n",
       "      <td>680442005</td>\n",
       "      <td>c</td>\n",
       "      <td>3</td>\n",
       "      <td>689343204</td>\n",
       "      <td>3.5</td>\n",
       "      <td>6</td>\n",
       "      <td>1</td>\n",
       "      <td>1</td>\n",
       "      <td>56</td>\n",
       "      <td>1</td>\n",
       "      <td>1</td>\n",
       "      <td>2</td>\n",
       "      <td>-8</td>\n",
       "      <td>350391.562500</td>\n",
       "      <td>353373.56250</td>\n",
       "      <td>1200.0</td>\n",
       "      <td>2</td>\n",
       "      <td>8</td>\n",
       "    </tr>\n",
       "    <tr>\n",
       "      <th>3</th>\n",
       "      <td>350438086</td>\n",
       "      <td>f</td>\n",
       "      <td>6</td>\n",
       "      <td>348132810</td>\n",
       "      <td>3.5</td>\n",
       "      <td>2</td>\n",
       "      <td>1</td>\n",
       "      <td>1</td>\n",
       "      <td>58</td>\n",
       "      <td>1</td>\n",
       "      <td>5</td>\n",
       "      <td>1</td>\n",
       "      <td>1</td>\n",
       "      <td>293018.343750</td>\n",
       "      <td>303066.28125</td>\n",
       "      <td>360.0</td>\n",
       "      <td>1</td>\n",
       "      <td>7</td>\n",
       "    </tr>\n",
       "    <tr>\n",
       "      <th>4</th>\n",
       "      <td>615375525</td>\n",
       "      <td>f</td>\n",
       "      <td>6</td>\n",
       "      <td>620921610</td>\n",
       "      <td>3.1</td>\n",
       "      <td>2</td>\n",
       "      <td>1</td>\n",
       "      <td>1</td>\n",
       "      <td>34</td>\n",
       "      <td>1</td>\n",
       "      <td>1</td>\n",
       "      <td>1</td>\n",
       "      <td>96</td>\n",
       "      <td>252226.890625</td>\n",
       "      <td>253935.21875</td>\n",
       "      <td>700.0</td>\n",
       "      <td>2</td>\n",
       "      <td>6</td>\n",
       "    </tr>\n",
       "  </tbody>\n",
       "</table>\n",
       "</div>"
      ],
      "text/plain": [
       "         pidp wave  wave_num        hidp  nbrsnci_dv  gor_dv  urban_dv  \\\n",
       "0  1428960167    f         6  1431984810         3.1       7         1   \n",
       "1  1156946571    f         6  1159984810         4.0       7         1   \n",
       "2   680442005    c         3   689343204         3.5       6         1   \n",
       "3   350438086    f         6   348132810         3.5       2         1   \n",
       "4   615375525    f         6   620921610         3.1       2         1   \n",
       "\n",
       "   sex_dv  age_dv  ethn_dv  marstat_dv  jbstat  qfhigh_dv     fimnnet_dv  \\\n",
       "0       1      50        4           1       1          2  387060.718750   \n",
       "1       1      54        1           1       1         96  387021.562500   \n",
       "2       1      56        1           1       2         -8  350391.562500   \n",
       "3       1      58        1           5       1          1  293018.343750   \n",
       "4       1      34        1           1       1         96  252226.890625   \n",
       "\n",
       "   fihhmnnet1_dv  houscost1_dv  health  scghq1_dv  \n",
       "0   395352.65625           0.0       2         12  \n",
       "1   389177.56250         234.0       2         10  \n",
       "2   353373.56250        1200.0       2          8  \n",
       "3   303066.28125         360.0       1          7  \n",
       "4   253935.21875         700.0       2          6  "
      ]
     },
     "execution_count": 18,
     "metadata": {},
     "output_type": "execute_result"
    }
   ],
   "source": [
    "# Import file\n",
    "\n",
    "path = \"/Users/arikatz/VSCode Projects/ukhls-informal-institutions-project/data/refinedvariables.dta\"\n",
    "df, meta = pyreadstat.read_dta(path)\n",
    "\n",
    "print(\"Shape:\", df.shape)\n",
    "df.head()"
   ]
  },
  {
   "cell_type": "code",
   "execution_count": 19,
   "id": "d6d1bb5a",
   "metadata": {},
   "outputs": [
    {
     "data": {
      "text/plain": [
       "wave\n",
       "a    37988\n",
       "c    40509\n",
       "f    35472\n",
       "i    33137\n",
       "l    28229\n",
       "Name: count, dtype: int64"
      ]
     },
     "metadata": {},
     "output_type": "display_data"
    }
   ],
   "source": [
    "# Create a table showing the number of observations in each wave\n",
    "\n",
    "wave_table = df['wave'].value_counts().sort_index()\n",
    "\n",
    "display(wave_table)"
   ]
  },
  {
   "cell_type": "markdown",
   "id": "0de4a49c",
   "metadata": {},
   "source": [
    "Great! For now, I'll just use data from wave C, which has the highest number of observations."
   ]
  },
  {
   "cell_type": "code",
   "execution_count": 20,
   "id": "d0a52449",
   "metadata": {},
   "outputs": [
    {
     "name": "stdout",
     "output_type": "stream",
     "text": [
      "Shape after dropping waves: (40509, 18)\n"
     ]
    }
   ],
   "source": [
    "# Drop all waves except wave c\n",
    "\n",
    "df = df[df['wave'] == 'c']\n",
    "print(\"Shape after dropping waves:\", df.shape)"
   ]
  },
  {
   "cell_type": "markdown",
   "id": "4f69e95e",
   "metadata": {},
   "source": [
    "## Describe statistics for dependent variable"
   ]
  },
  {
   "cell_type": "code",
   "execution_count": 21,
   "id": "d4dd49e8",
   "metadata": {},
   "outputs": [
    {
     "data": {
      "text/plain": [
       "count    40509.000000\n",
       "mean        11.074946\n",
       "std          5.519019\n",
       "min          0.000000\n",
       "25%          7.000000\n",
       "50%         10.000000\n",
       "75%         13.000000\n",
       "max         36.000000\n",
       "Name: scghq1_dv, dtype: float64"
      ]
     },
     "execution_count": 21,
     "metadata": {},
     "output_type": "execute_result"
    }
   ],
   "source": [
    "# define the dependent variable, Y\n",
    "\n",
    "Y = df['scghq1_dv']\n",
    "\n",
    "Y.describe()"
   ]
  },
  {
   "cell_type": "code",
   "execution_count": 42,
   "id": "1ee34494",
   "metadata": {},
   "outputs": [
    {
     "data": {
      "image/png": "[encoded data removed]",
      "text/plain": [
       "<Figure size 800x400 with 1 Axes>"
      ]
     },
     "metadata": {
      "image/png": {
       "height": 388,
       "width": 790
      }
     },
     "output_type": "display_data"
    }
   ],
   "source": [
    "# Histogram of Y (GHQ score)\n",
    "bins = np.arange(Y.min() - 0.5, Y.max() + 1.5, 1)\n",
    "plt.figure(figsize=(8, 4))\n",
    "sns.histplot(Y, bins=bins, stat=\"count\", kde=False, color='C0')\n",
    "plt.axvline(Y.mean(), color=\"red\", linestyle=\"--\", label=f\"Mean={Y.mean():.1f}\")\n",
    "plt.axvline(Y.median(), color=\"green\", linestyle=\"--\", label=f\"Median={Y.median():.1f}\")\n",
    "plt.title('Distribution of GHQ Score')\n",
    "plt.xlabel('GHQ Score')\n",
    "plt.ylabel('Count')\n",
    "plt.legend()\n",
    "plt.tight_layout()\n",
    "plt.show()"
   ]
  },
  {
   "cell_type": "code",
   "execution_count": 34,
   "id": "4d42e118",
   "metadata": {},
   "outputs": [
    {
     "name": "stdout",
     "output_type": "stream",
     "text": [
      "Skewness: 1.455205\n",
      "Kurtosis: 2.654516\n"
     ]
    }
   ],
   "source": [
    "print(\"Skewness: %f\" %Y.skew())\n",
    "print(\"Kurtosis: %f\" %Y.kurt())"
   ]
  }
 ],
 "metadata": {
  "kernelspec": {
   "display_name": ".venv",
   "language": "python",
   "name": "python3"
  },
  "language_info": {
   "codemirror_mode": {
    "name": "ipython",
    "version": 3
   },
   "file_extension": ".py",
   "mimetype": "text/x-python",
   "name": "python",
   "nbconvert_exporter": "python",
   "pygments_lexer": "ipython3",
   "version": "3.13.3"
  }
 },
 "nbformat": 4,
 "nbformat_minor": 5
}
